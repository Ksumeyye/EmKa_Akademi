{
  "nbformat": 4,
  "nbformat_minor": 0,
  "metadata": {
    "colab": {
      "provenance": [],
      "authorship_tag": "ABX9TyOFPDBYUixijotkUSfuAwfR"
    },
    "kernelspec": {
      "name": "python3",
      "display_name": "Python 3"
    },
    "language_info": {
      "name": "python"
    }
  },
  "cells": [
    {
      "cell_type": "markdown",
      "source": [
        "1. NumPy kütüphanesi np kısaltması ile import edin"
      ],
      "metadata": {
        "id": "74czJZndT2GY"
      }
    },
    {
      "cell_type": "code",
      "source": [
        "import numpy as np"
      ],
      "metadata": {
        "id": "QdJgwHDeT4x3"
      },
      "execution_count": 52,
      "outputs": []
    },
    {
      "cell_type": "markdown",
      "source": [
        "2. 10 tane 0 değerinden oluşan bir array oluşturun"
      ],
      "metadata": {
        "id": "aRrG3_NLT-ZP"
      }
    },
    {
      "cell_type": "code",
      "source": [
        "np.zeros((10))"
      ],
      "metadata": {
        "colab": {
          "base_uri": "https://localhost:8080/"
        },
        "id": "gR0lHfejUAww",
        "outputId": "4f2daf78-8d7b-4c4e-bbcd-7140823a48ad"
      },
      "execution_count": 3,
      "outputs": [
        {
          "output_type": "execute_result",
          "data": {
            "text/plain": [
              "array([0., 0., 0., 0., 0., 0., 0., 0., 0., 0.])"
            ]
          },
          "metadata": {},
          "execution_count": 3
        }
      ]
    },
    {
      "cell_type": "markdown",
      "source": [
        "3. 10 tane 1 değerinden oluşan bir array oluşturun"
      ],
      "metadata": {
        "id": "Y5EFOrX2UX1q"
      }
    },
    {
      "cell_type": "code",
      "source": [
        "np.ones(10)"
      ],
      "metadata": {
        "colab": {
          "base_uri": "https://localhost:8080/"
        },
        "id": "IgmQYJnmUaSQ",
        "outputId": "e7006ef0-afed-4e11-dd05-570a579dc8a4"
      },
      "execution_count": 4,
      "outputs": [
        {
          "output_type": "execute_result",
          "data": {
            "text/plain": [
              "array([1., 1., 1., 1., 1., 1., 1., 1., 1., 1.])"
            ]
          },
          "metadata": {},
          "execution_count": 4
        }
      ]
    },
    {
      "cell_type": "markdown",
      "source": [
        "4. 10 tane 5 değerinden oluşan bir array oluşturun"
      ],
      "metadata": {
        "id": "9g1XVXBBUlGa"
      }
    },
    {
      "cell_type": "code",
      "source": [
        "np.ones(10)*5"
      ],
      "metadata": {
        "colab": {
          "base_uri": "https://localhost:8080/"
        },
        "id": "bcvZaxy5UoEM",
        "outputId": "c0faa750-4fbb-4e6a-af95-7017cb96f608"
      },
      "execution_count": 5,
      "outputs": [
        {
          "output_type": "execute_result",
          "data": {
            "text/plain": [
              "array([5., 5., 5., 5., 5., 5., 5., 5., 5., 5.])"
            ]
          },
          "metadata": {},
          "execution_count": 5
        }
      ]
    },
    {
      "cell_type": "markdown",
      "source": [
        "5. 10'dan 50'ye kadar(10 ve 50 dahil) ardışık tam sayılardan oluşan bir array oluşturalım\n",
        " "
      ],
      "metadata": {
        "id": "krYkhguFUsl_"
      }
    },
    {
      "cell_type": "code",
      "source": [
        "arr=np.arange(10,51)\n",
        "arr"
      ],
      "metadata": {
        "colab": {
          "base_uri": "https://localhost:8080/"
        },
        "id": "KzWtMHPWUveX",
        "outputId": "78630eef-44fd-4ab4-8724-7708ff00b104"
      },
      "execution_count": 6,
      "outputs": [
        {
          "output_type": "execute_result",
          "data": {
            "text/plain": [
              "array([10, 11, 12, 13, 14, 15, 16, 17, 18, 19, 20, 21, 22, 23, 24, 25, 26,\n",
              "       27, 28, 29, 30, 31, 32, 33, 34, 35, 36, 37, 38, 39, 40, 41, 42, 43,\n",
              "       44, 45, 46, 47, 48, 49, 50])"
            ]
          },
          "metadata": {},
          "execution_count": 6
        }
      ]
    },
    {
      "cell_type": "markdown",
      "source": [
        "6. 10 ve 50 arasındaki çift tam sayılardan oluşan bir array oluşturalım. (10 ve 50 dahil)"
      ],
      "metadata": {
        "id": "AwF9JItUU37-"
      }
    },
    {
      "cell_type": "code",
      "source": [
        "arr=np.arange(10,51,2)\n",
        "arr"
      ],
      "metadata": {
        "colab": {
          "base_uri": "https://localhost:8080/"
        },
        "id": "hNcJL9lTU6bl",
        "outputId": "739f0b6d-be4e-42c8-b3ee-6cd02d94823b"
      },
      "execution_count": 7,
      "outputs": [
        {
          "output_type": "execute_result",
          "data": {
            "text/plain": [
              "array([10, 12, 14, 16, 18, 20, 22, 24, 26, 28, 30, 32, 34, 36, 38, 40, 42,\n",
              "       44, 46, 48, 50])"
            ]
          },
          "metadata": {},
          "execution_count": 7
        }
      ]
    },
    {
      "cell_type": "markdown",
      "source": [
        "7. 3x3 shape'inde 0'dan 8'e kadar toplam 9 tam sayıdan oluşan bir array oluşturalım"
      ],
      "metadata": {
        "id": "9xVOcfmaVP43"
      }
    },
    {
      "cell_type": "code",
      "source": [
        "arr = np.arange(9).reshape(3,3)\n",
        "arr"
      ],
      "metadata": {
        "colab": {
          "base_uri": "https://localhost:8080/"
        },
        "id": "OoaZEtGUVQet",
        "outputId": "ec04e75f-142c-4f5e-c615-690e1f334c28"
      },
      "execution_count": 13,
      "outputs": [
        {
          "output_type": "execute_result",
          "data": {
            "text/plain": [
              "array([[0, 1, 2],\n",
              "       [3, 4, 5],\n",
              "       [6, 7, 8]])"
            ]
          },
          "metadata": {},
          "execution_count": 13
        }
      ]
    },
    {
      "cell_type": "markdown",
      "source": [
        "8. 3x3 boyutlarında birim matris oluşturun"
      ],
      "metadata": {
        "id": "HmkIB2qrWk_N"
      }
    },
    {
      "cell_type": "code",
      "source": [
        "np.eye(3)"
      ],
      "metadata": {
        "colab": {
          "base_uri": "https://localhost:8080/"
        },
        "id": "2VPSRD_HWw52",
        "outputId": "e813d589-728b-4b69-fa7d-dd4a33323313"
      },
      "execution_count": 15,
      "outputs": [
        {
          "output_type": "execute_result",
          "data": {
            "text/plain": [
              "array([[1., 0., 0.],\n",
              "       [0., 1., 0.],\n",
              "       [0., 0., 1.]])"
            ]
          },
          "metadata": {},
          "execution_count": 15
        }
      ]
    },
    {
      "cell_type": "markdown",
      "source": [
        " NumPy kullanarak 0-1 arasından rastgele bir sayı oluşturun.\n",
        "\n",
        " NOT: Değerler random seçildiği için sizin sonucunuz aşağıdaki çıktıdan farklı olacaktır"
      ],
      "metadata": {
        "id": "3PTbANa-W5V5"
      }
    },
    {
      "cell_type": "code",
      "source": [
        "np.random.rand(1)"
      ],
      "metadata": {
        "colab": {
          "base_uri": "https://localhost:8080/"
        },
        "id": "u7UkOronW-TV",
        "outputId": "ef511100-00e2-4c54-e0b3-c1614a445a41"
      },
      "execution_count": 16,
      "outputs": [
        {
          "output_type": "execute_result",
          "data": {
            "text/plain": [
              "array([0.80759688])"
            ]
          },
          "metadata": {},
          "execution_count": 16
        }
      ]
    },
    {
      "cell_type": "markdown",
      "source": [
        "10. NumPy kullanarak standart dağılıma sahip 25 random sayıdan oluşan bir array oluşturalım.\n",
        "\n",
        "  NOT: Sizin cevabınız aşağıdaki çıktıdan farklı olacaktır"
      ],
      "metadata": {
        "id": "2RlQSKB4XFQa"
      }
    },
    {
      "cell_type": "code",
      "source": [
        "np.random.rand(25)"
      ],
      "metadata": {
        "colab": {
          "base_uri": "https://localhost:8080/"
        },
        "id": "Zm6TYrXYXF7b",
        "outputId": "26230af9-1731-4ed0-a145-16a5c4cfcf60"
      },
      "execution_count": 17,
      "outputs": [
        {
          "output_type": "execute_result",
          "data": {
            "text/plain": [
              "array([0.89147531, 0.45106649, 0.49826466, 0.76750628, 0.81311059,\n",
              "       0.05079996, 0.94391337, 0.08262019, 0.23033922, 0.55427743,\n",
              "       0.51311787, 0.87901419, 0.9393804 , 0.24917785, 0.1100398 ,\n",
              "       0.85037965, 0.83597583, 0.80098551, 0.22123568, 0.80082575,\n",
              "       0.41541605, 0.40759388, 0.91382006, 0.62797192, 0.77381252])"
            ]
          },
          "metadata": {},
          "execution_count": 17
        }
      ]
    },
    {
      "cell_type": "markdown",
      "source": [
        "11. Aşağıdaki çıktıdakine benzer array'i oluşturmaya çalışın"
      ],
      "metadata": {
        "id": "QYqliGktXNXM"
      }
    },
    {
      "cell_type": "code",
      "source": [
        "np.linspace(0,1,100)"
      ],
      "metadata": {
        "colab": {
          "base_uri": "https://localhost:8080/"
        },
        "id": "5kYedwuDXQG-",
        "outputId": "0cd2f965-7536-40b4-fb5b-58a73c230821"
      },
      "execution_count": 58,
      "outputs": [
        {
          "output_type": "execute_result",
          "data": {
            "text/plain": [
              "array([0.        , 0.01010101, 0.02020202, 0.03030303, 0.04040404,\n",
              "       0.05050505, 0.06060606, 0.07070707, 0.08080808, 0.09090909,\n",
              "       0.1010101 , 0.11111111, 0.12121212, 0.13131313, 0.14141414,\n",
              "       0.15151515, 0.16161616, 0.17171717, 0.18181818, 0.19191919,\n",
              "       0.2020202 , 0.21212121, 0.22222222, 0.23232323, 0.24242424,\n",
              "       0.25252525, 0.26262626, 0.27272727, 0.28282828, 0.29292929,\n",
              "       0.3030303 , 0.31313131, 0.32323232, 0.33333333, 0.34343434,\n",
              "       0.35353535, 0.36363636, 0.37373737, 0.38383838, 0.39393939,\n",
              "       0.4040404 , 0.41414141, 0.42424242, 0.43434343, 0.44444444,\n",
              "       0.45454545, 0.46464646, 0.47474747, 0.48484848, 0.49494949,\n",
              "       0.50505051, 0.51515152, 0.52525253, 0.53535354, 0.54545455,\n",
              "       0.55555556, 0.56565657, 0.57575758, 0.58585859, 0.5959596 ,\n",
              "       0.60606061, 0.61616162, 0.62626263, 0.63636364, 0.64646465,\n",
              "       0.65656566, 0.66666667, 0.67676768, 0.68686869, 0.6969697 ,\n",
              "       0.70707071, 0.71717172, 0.72727273, 0.73737374, 0.74747475,\n",
              "       0.75757576, 0.76767677, 0.77777778, 0.78787879, 0.7979798 ,\n",
              "       0.80808081, 0.81818182, 0.82828283, 0.83838384, 0.84848485,\n",
              "       0.85858586, 0.86868687, 0.87878788, 0.88888889, 0.8989899 ,\n",
              "       0.90909091, 0.91919192, 0.92929293, 0.93939394, 0.94949495,\n",
              "       0.95959596, 0.96969697, 0.97979798, 0.98989899, 1.        ])"
            ]
          },
          "metadata": {},
          "execution_count": 58
        }
      ]
    },
    {
      "cell_type": "markdown",
      "source": [
        "12. 0-1 arasında lineer artış gösteren ve 20 sayıdan oluşan bir array oluşturun:"
      ],
      "metadata": {
        "id": "QVXewqb0X3xy"
      }
    },
    {
      "cell_type": "code",
      "source": [
        "np.linspace(0,1,20)"
      ],
      "metadata": {
        "colab": {
          "base_uri": "https://localhost:8080/"
        },
        "id": "XGXo3DHnX77N",
        "outputId": "675757c3-6555-43d8-f511-0a95e97ca391"
      },
      "execution_count": 59,
      "outputs": [
        {
          "output_type": "execute_result",
          "data": {
            "text/plain": [
              "array([0.        , 0.05263158, 0.10526316, 0.15789474, 0.21052632,\n",
              "       0.26315789, 0.31578947, 0.36842105, 0.42105263, 0.47368421,\n",
              "       0.52631579, 0.57894737, 0.63157895, 0.68421053, 0.73684211,\n",
              "       0.78947368, 0.84210526, 0.89473684, 0.94736842, 1.        ])"
            ]
          },
          "metadata": {},
          "execution_count": 59
        }
      ]
    },
    {
      "cell_type": "markdown",
      "source": [
        "NumPy Indexing and Selection\n",
        "Aşağıdaki matris sıradaki sorular için bizim başlangıç matrisimiz. (Aşağıdaki kod hücresini çalıştırarak devam edin.), devamında sorduğumuz soruları cevaplamaya çalışın:"
      ],
      "metadata": {
        "id": "WaUEtfZwX8Zp"
      }
    },
    {
      "cell_type": "markdown",
      "source": [
        "# RUN THIS CELL - THIS IS OUR STARTING MATRIX\n",
        "mat = np.arange(1,26).reshape(5,5)\n",
        "mat"
      ],
      "metadata": {
        "id": "Ev7-bJGjYHg_"
      }
    },
    {
      "cell_type": "code",
      "source": [
        "import numpy as np"
      ],
      "metadata": {
        "id": "sdgcUXmaZYhn"
      },
      "execution_count": 43,
      "outputs": []
    },
    {
      "cell_type": "code",
      "source": [
        "mat = np.arange(1,26).reshape(5,5) \n",
        "mat"
      ],
      "metadata": {
        "colab": {
          "base_uri": "https://localhost:8080/"
        },
        "id": "w5EYcdb2YGRW",
        "outputId": "51c2e5b8-c618-4f9f-dcc3-0bcb7079da23"
      },
      "execution_count": 44,
      "outputs": [
        {
          "output_type": "execute_result",
          "data": {
            "text/plain": [
              "array([[ 1,  2,  3,  4,  5],\n",
              "       [ 6,  7,  8,  9, 10],\n",
              "       [11, 12, 13, 14, 15],\n",
              "       [16, 17, 18, 19, 20],\n",
              "       [21, 22, 23, 24, 25]])"
            ]
          },
          "metadata": {},
          "execution_count": 44
        }
      ]
    },
    {
      "cell_type": "markdown",
      "source": [
        "13. Aşağıda verilen matrisleri oluşturmaya çalışın.\n",
        "\n",
        "  Çıktıların üstündeki kod hücresini çalıştırmayın, aksi takdirde çıktıları göremezsiniz"
      ],
      "metadata": {
        "id": "ke3H9nZfYbtB"
      }
    },
    {
      "cell_type": "code",
      "source": [],
      "metadata": {
        "id": "8jfrb1SjYcSd"
      },
      "execution_count": 30,
      "outputs": []
    },
    {
      "cell_type": "markdown",
      "source": [
        "14. Write code that reproduces the output shown below."
      ],
      "metadata": {
        "id": "C7CooxtSaDPF"
      }
    },
    {
      "cell_type": "code",
      "source": [
        "mat=np.random.randint(20 , 21 )\n",
        "mat"
      ],
      "metadata": {
        "colab": {
          "base_uri": "https://localhost:8080/"
        },
        "id": "8RQrnI9Ka9eI",
        "outputId": "5ec08b5c-3693-4913-8a9e-cfb8e41c2ba2"
      },
      "execution_count": 35,
      "outputs": [
        {
          "output_type": "execute_result",
          "data": {
            "text/plain": [
              "20"
            ]
          },
          "metadata": {},
          "execution_count": 35
        }
      ]
    },
    {
      "cell_type": "markdown",
      "source": [
        "15. mat arrayini kullanarak aşağıdaki matris çıktısını verecek kodları oluşturun"
      ],
      "metadata": {
        "id": "Q_q_ePJtafic"
      }
    },
    {
      "cell_type": "code",
      "source": [],
      "metadata": {
        "id": "WVMOGpxIbIy7"
      },
      "execution_count": 37,
      "outputs": []
    },
    {
      "cell_type": "markdown",
      "source": [
        "16. mat arrayini kullanarak aşağıdaki matris çıktısını verecek kodları oluşturun"
      ],
      "metadata": {
        "id": "UnpjG8pFb8a0"
      }
    },
    {
      "cell_type": "code",
      "source": [],
      "metadata": {
        "id": "V_HI7AZNb_v9"
      },
      "execution_count": 41,
      "outputs": []
    },
    {
      "cell_type": "markdown",
      "source": [
        "17. mat arrayini kullanarak aşağıdaki matris çıktısını verecek kodları oluşturun"
      ],
      "metadata": {
        "id": "TmYViN9lc5-f"
      }
    },
    {
      "cell_type": "code",
      "source": [],
      "metadata": {
        "id": "xk6VnnR7c-CA"
      },
      "execution_count": null,
      "outputs": []
    },
    {
      "cell_type": "markdown",
      "source": [
        "NumPy Operations\n",
        "18. Mat arrayindeki bütün değerlerin toplamını bulun"
      ],
      "metadata": {
        "id": "XZEN9y18dA_M"
      }
    },
    {
      "cell_type": "code",
      "source": [
        "mat.sum()"
      ],
      "metadata": {
        "colab": {
          "base_uri": "https://localhost:8080/"
        },
        "id": "LCjHLbyhdDHn",
        "outputId": "e04e687b-305c-4d7d-c8b8-bbe47bb88dcc"
      },
      "execution_count": 45,
      "outputs": [
        {
          "output_type": "execute_result",
          "data": {
            "text/plain": [
              "325"
            ]
          },
          "metadata": {},
          "execution_count": 45
        }
      ]
    },
    {
      "cell_type": "markdown",
      "source": [
        "19. Mat arrayindeki değerlerin standart sapmasını bulun\n",
        " "
      ],
      "metadata": {
        "id": "4cQ54YZudeSF"
      }
    },
    {
      "cell_type": "code",
      "source": [
        "mat.std()"
      ],
      "metadata": {
        "colab": {
          "base_uri": "https://localhost:8080/"
        },
        "id": "235Fcdvadgmb",
        "outputId": "ed876bad-a573-44be-cefe-803da85c9fc1"
      },
      "execution_count": 46,
      "outputs": [
        {
          "output_type": "execute_result",
          "data": {
            "text/plain": [
              "7.211102550927978"
            ]
          },
          "metadata": {},
          "execution_count": 46
        }
      ]
    },
    {
      "cell_type": "markdown",
      "source": [
        "20. Mat arrayindeki her sütunun kendi içinde toplamlarını bularak yeni bir array oluşturun"
      ],
      "metadata": {
        "id": "gfpcUtevdp0X"
      }
    },
    {
      "cell_type": "code",
      "source": [],
      "metadata": {
        "id": "GD4kqVvodqoH"
      },
      "execution_count": null,
      "outputs": []
    }
  ]
}