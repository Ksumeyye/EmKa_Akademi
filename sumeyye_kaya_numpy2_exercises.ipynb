{
  "nbformat": 4,
  "nbformat_minor": 0,
  "metadata": {
    "colab": {
      "provenance": [],
      "authorship_tag": "ABX9TyPcK91SG7VQK1WAIgPnCKHP"
    },
    "kernelspec": {
      "name": "python3",
      "display_name": "Python 3"
    },
    "language_info": {
      "name": "python"
    }
  },
  "cells": [
    {
      "cell_type": "code",
      "execution_count": 126,
      "metadata": {
        "id": "tqUWieR_0vj_"
      },
      "outputs": [],
      "source": [
        "import numpy as np"
      ]
    },
    {
      "cell_type": "markdown",
      "source": [
        "1) 0-29 arası(29 dahil, toplam 30 tam sayı) tam sayılardan oluşan bir boyutlu bir array oluşturun ardından bu array'in shape'ini (15,2) şeklinde güncelleyip 2 boyutlu hale getirin.\n",
        "2) 60 adet rastgele tam sayı verilerinden oluşan bir boyutlu bir array oluşturun. Devamında bu array'i istediğiniz shapelerde 3 boyutlu hale getirin ve son durumda oluşan array'in boyutunu ve shape'ini kontrol edin.\n",
        "3) 20 elemanlı ve sadece rakamlardan oluşan iki boyutlu bir array oluşturun. Ardından bu array'i düzleştirin ve tek boyutlu hale getirin ve son durumda oluşan array'in boyutunu ve shape'ini kontrol edin.\n",
        "4) İstediğiniz herhangi elemanlardan oluşan 2 Boyutlu bir array oluşturun. Oluşturduğunuz bu 2 boyutlu array'in içindeki bütün elemanları hem yavaş yol olan for döngüsüyle hem de daha hızlı yol olan uygun NumPy metoduyla tek tek dönerek ekrana yazdırın.\n",
        "5) 5,10,15,20,25,30 değerlerinden oluşan bir boyutlu bir array ve\n",
        "   1,2,3,4,5,6 değerlerinden oluşan başka bir boyutlu bir array oluşturun.\n",
        "   Bu arraylerinin elemanlarına kendi aralarında 4 işlem uygulayın. İki arrayinde 1.indexindekiler toplansın/çıkartılsın/çarpılsın/bölünsün gibi.\n",
        "6) 0-100 arası rastgele 10 tam sayıdan oluşan bir array oluşturun ve oluşturulan arrayin sum/mean/max/var/std değerlerini inceleyin.\n",
        "7) 0-20 arası(20 dahil değil) tam sayılardan oluşan ve 500-530(530 dahil) arası tam sayılardan oluşan 2 array oluşturun. Ardından bu iki array'i concatenate ederek ekrana yazdırın.\n",
        "8) 15-50(50 dahil) arası tam sayılardan oluşan bir array oluşturun. Daha sonra 10-100 arası(100 dahil) tam sayılardan oluşan 2.bir array oluşturun. Bu 2 arrayi concatanate ederek 3.bir array oluşturun ve bu array'in 25.index ile 50.index'i(50 dahil) arasındaki değerlerini 888 yapın.\n",
        "9) 0-40(40 dahil değil) arası değerlerden oluşan (8,5) shape'inde 2 boyutlu bir array ve  320-360(360 dahil değil) değerlerinden oluşan (8,5) shape'inde 2 boyutlubaşka bir array oluşturun. Devamında bu iki array'i hem axis = 0'da hem de axis = 1'de concatenate ederek farkı karşılaştırın.\n",
        "10) 9.Soruda oluşturduğunuz 2 array'i axis = 2'de concatenate etmeye çalışın. Ardından axis = 2'de stacklemeye(yığınlamaya) çalışın. İkisi arasındaki farkı karşılaştırın.\n",
        "11) [1, 20, 25, 4, 4, 5, 4, 4, 1, 6, 9, 12, 1, 5] değerlerinden oluşan bir boyutlu bir array oluşturun. Devamında bu array'in içinde değeri 5'e eşit olan değerlerin indexleri bulun.\n",
        "12) Yukarıda oluşturduğunuz array içinde değeri çift olan değerlerin indexlerini bulun.\n",
        "13) Yukarıda oluşturduğunuz array içinde değeri 4'den büyük olan değerlerin indexlerini bulun.\n",
        "14) Yukarıda oluşturduğunuz array içinde değeri 5'e tam bölünen değerlerin indexlerini bulun.\n",
        "15) 85-100(100 dahil) arasından rastgele 1 tam sayı seçin\n",
        "16) İki basamaklı tam sayılar arasından rastgele sayılar seçerek (3,3) shape'inde bir array oluşturun.\n",
        "17) 35-60 arasındaki tam sayılardan bir array oluşturun, ardından bu array içinden rastgele 1 tam sayı seçin.\n",
        "18) Sadece [3, 8, 10, 53] değerlerinden oluşan (2,5) shape'inde 2 boyutlu bir array oluşturun."
      ],
      "metadata": {
        "id": "YC5W4omy1D8j"
      }
    },
    {
      "cell_type": "markdown",
      "source": [
        "1) 0-29 arası(29 dahil, toplam 30 tam sayı) tam sayılardan oluşan bir boyutlu bir array oluşturun ardından bu array'in shape'ini (15,2) şeklinde güncelleyip 2 boyutlu hale getirin."
      ],
      "metadata": {
        "id": "3gu9zcGG1KCn"
      }
    },
    {
      "cell_type": "code",
      "source": [
        "arr=np.arange(30)\n",
        "arr"
      ],
      "metadata": {
        "colab": {
          "base_uri": "https://localhost:8080/"
        },
        "id": "eXgbwAjb1N38",
        "outputId": "c388a173-1a43-449d-e06d-25f3eb508b31"
      },
      "execution_count": 127,
      "outputs": [
        {
          "output_type": "execute_result",
          "data": {
            "text/plain": [
              "array([ 0,  1,  2,  3,  4,  5,  6,  7,  8,  9, 10, 11, 12, 13, 14, 15, 16,\n",
              "       17, 18, 19, 20, 21, 22, 23, 24, 25, 26, 27, 28, 29])"
            ]
          },
          "metadata": {},
          "execution_count": 127
        }
      ]
    },
    {
      "cell_type": "code",
      "source": [
        "arr2d=arr.reshape(15,2)\n",
        "arr2d"
      ],
      "metadata": {
        "colab": {
          "base_uri": "https://localhost:8080/"
        },
        "id": "3PLMbN8c1diR",
        "outputId": "f099c999-a9c5-49df-ec8a-d7504dffe71c"
      },
      "execution_count": 128,
      "outputs": [
        {
          "output_type": "execute_result",
          "data": {
            "text/plain": [
              "array([[ 0,  1],\n",
              "       [ 2,  3],\n",
              "       [ 4,  5],\n",
              "       [ 6,  7],\n",
              "       [ 8,  9],\n",
              "       [10, 11],\n",
              "       [12, 13],\n",
              "       [14, 15],\n",
              "       [16, 17],\n",
              "       [18, 19],\n",
              "       [20, 21],\n",
              "       [22, 23],\n",
              "       [24, 25],\n",
              "       [26, 27],\n",
              "       [28, 29]])"
            ]
          },
          "metadata": {},
          "execution_count": 128
        }
      ]
    },
    {
      "cell_type": "markdown",
      "source": [
        "2) 60 adet rastgele tam sayı verilerinden oluşan bir boyutlu bir array oluşturun. Devamında bu array'i istediğiniz shapelerde 3 boyutlu hale getirin ve son durumda oluşan array'in boyutunu ve shape'ini kontrol edin. "
      ],
      "metadata": {
        "id": "7F9c1mmJ24gN"
      }
    },
    {
      "cell_type": "code",
      "source": [
        "arr3d = np.random.randint(1,100,60).reshape(2,-1,3)\n",
        "arr3d\n",
        "     "
      ],
      "metadata": {
        "colab": {
          "base_uri": "https://localhost:8080/"
        },
        "id": "PeWtV9lz25sN",
        "outputId": "d6ba001a-df27-4d54-8480-3459156429a0"
      },
      "execution_count": 129,
      "outputs": [
        {
          "output_type": "execute_result",
          "data": {
            "text/plain": [
              "array([[[99, 20, 68],\n",
              "        [44, 72, 27],\n",
              "        [55, 34, 91],\n",
              "        [28, 96, 31],\n",
              "        [34, 27, 59],\n",
              "        [36, 81, 28],\n",
              "        [57, 72, 42],\n",
              "        [93, 85, 88],\n",
              "        [89, 60, 17],\n",
              "        [98, 15, 33]],\n",
              "\n",
              "       [[54, 54, 90],\n",
              "        [57, 36, 69],\n",
              "        [41, 36, 29],\n",
              "        [85, 33,  8],\n",
              "        [84, 13, 34],\n",
              "        [85,  2, 87],\n",
              "        [58,  8, 88],\n",
              "        [33, 89, 22],\n",
              "        [92, 14, 13],\n",
              "        [ 3, 48, 44]]])"
            ]
          },
          "metadata": {},
          "execution_count": 129
        }
      ]
    },
    {
      "cell_type": "markdown",
      "source": [
        " 3) 20 elemanlı ve sadece rakamlardan oluşan iki boyutlu bir array oluşturun. Ardından bu array'i düzleştirin ve tek boyutlu hale getirin ve son durumda oluşan array'in boyutunu ve shape'ini kontrol edin."
      ],
      "metadata": {
        "id": "pga6QlmH9sIG"
      }
    },
    {
      "cell_type": "code",
      "source": [
        "arr2d = np.arange(20).reshape(5,4)\n",
        "arr2d"
      ],
      "metadata": {
        "colab": {
          "base_uri": "https://localhost:8080/"
        },
        "id": "OQaPRjMP9v9b",
        "outputId": "d074d6d8-947f-4d53-f063-8c6ae065dfa5"
      },
      "execution_count": 130,
      "outputs": [
        {
          "output_type": "execute_result",
          "data": {
            "text/plain": [
              "array([[ 0,  1,  2,  3],\n",
              "       [ 4,  5,  6,  7],\n",
              "       [ 8,  9, 10, 11],\n",
              "       [12, 13, 14, 15],\n",
              "       [16, 17, 18, 19]])"
            ]
          },
          "metadata": {},
          "execution_count": 130
        }
      ]
    },
    {
      "cell_type": "code",
      "source": [
        "arr2d.shape"
      ],
      "metadata": {
        "colab": {
          "base_uri": "https://localhost:8080/"
        },
        "id": "bpSHsqSN_F3O",
        "outputId": "87859eb8-f5fe-40b6-9840-bd597b053457"
      },
      "execution_count": 131,
      "outputs": [
        {
          "output_type": "execute_result",
          "data": {
            "text/plain": [
              "(5, 4)"
            ]
          },
          "metadata": {},
          "execution_count": 131
        }
      ]
    },
    {
      "cell_type": "code",
      "source": [
        "arr=arr2d.reshape(-1)\n",
        "arr"
      ],
      "metadata": {
        "colab": {
          "base_uri": "https://localhost:8080/"
        },
        "id": "qZyH8EAp-hWU",
        "outputId": "25f624f9-1418-4712-f4f1-32684228ab48"
      },
      "execution_count": 132,
      "outputs": [
        {
          "output_type": "execute_result",
          "data": {
            "text/plain": [
              "array([ 0,  1,  2,  3,  4,  5,  6,  7,  8,  9, 10, 11, 12, 13, 14, 15, 16,\n",
              "       17, 18, 19])"
            ]
          },
          "metadata": {},
          "execution_count": 132
        }
      ]
    },
    {
      "cell_type": "code",
      "source": [
        "arr.shape"
      ],
      "metadata": {
        "colab": {
          "base_uri": "https://localhost:8080/"
        },
        "id": "sNgSR2j3-d__",
        "outputId": "ff0b1bd9-b1d6-470d-b055-7b65ec7a2a2f"
      },
      "execution_count": 133,
      "outputs": [
        {
          "output_type": "execute_result",
          "data": {
            "text/plain": [
              "(20,)"
            ]
          },
          "metadata": {},
          "execution_count": 133
        }
      ]
    },
    {
      "cell_type": "code",
      "source": [
        "arr.ndim"
      ],
      "metadata": {
        "colab": {
          "base_uri": "https://localhost:8080/"
        },
        "id": "a41EJ3o6-yyS",
        "outputId": "b188d69a-4431-4675-aeb8-b120f6becc34"
      },
      "execution_count": 134,
      "outputs": [
        {
          "output_type": "execute_result",
          "data": {
            "text/plain": [
              "1"
            ]
          },
          "metadata": {},
          "execution_count": 134
        }
      ]
    },
    {
      "cell_type": "markdown",
      "source": [
        "4) İstediğiniz herhangi elemanlardan oluşan 2 Boyutlu bir array oluşturun. Oluşturduğunuz bu 2 boyutlu array'in içindeki bütün elemanları hem yavaş yol olan for döngüsüyle hem de daha hızlı yol olan uygun NumPy metoduyla tek tek dönerek ekrana yazdırın."
      ],
      "metadata": {
        "id": "IczN9rfA_MRE"
      }
    },
    {
      "cell_type": "code",
      "source": [
        "\n",
        "arr2d = np.arange(10).reshape(2,5)\n",
        "arr2d"
      ],
      "metadata": {
        "colab": {
          "base_uri": "https://localhost:8080/"
        },
        "id": "Dq5tPsvU_THW",
        "outputId": "cf527a38-294c-47a4-9a65-b8c823c1f1e2"
      },
      "execution_count": 135,
      "outputs": [
        {
          "output_type": "execute_result",
          "data": {
            "text/plain": [
              "array([[0, 1, 2, 3, 4],\n",
              "       [5, 6, 7, 8, 9]])"
            ]
          },
          "metadata": {},
          "execution_count": 135
        }
      ]
    },
    {
      "cell_type": "code",
      "source": [
        "for x in arr2d:\n",
        "  print(x)"
      ],
      "metadata": {
        "colab": {
          "base_uri": "https://localhost:8080/"
        },
        "id": "lQdVUGPa_uRE",
        "outputId": "4781f7ce-80c2-4260-9c3e-a2d5b76dd1e7"
      },
      "execution_count": 136,
      "outputs": [
        {
          "output_type": "stream",
          "name": "stdout",
          "text": [
            "[0 1 2 3 4]\n",
            "[5 6 7 8 9]\n"
          ]
        }
      ]
    },
    {
      "cell_type": "code",
      "source": [
        "\n",
        "for x in arr2d:\n",
        "  for y in x:\n",
        "    print(y)"
      ],
      "metadata": {
        "colab": {
          "base_uri": "https://localhost:8080/"
        },
        "id": "bG4cJVJv_5hs",
        "outputId": "d60129cd-13c4-43cd-8f17-bb21ecc7ce7c"
      },
      "execution_count": 137,
      "outputs": [
        {
          "output_type": "stream",
          "name": "stdout",
          "text": [
            "0\n",
            "1\n",
            "2\n",
            "3\n",
            "4\n",
            "5\n",
            "6\n",
            "7\n",
            "8\n",
            "9\n"
          ]
        }
      ]
    },
    {
      "cell_type": "code",
      "source": [
        "for x in np.nditer(arr2d):\n",
        "  print(x)"
      ],
      "metadata": {
        "colab": {
          "base_uri": "https://localhost:8080/"
        },
        "id": "loU54FG-AJXc",
        "outputId": "e81d83c1-4a14-470c-980f-f54f5acf02c8"
      },
      "execution_count": 138,
      "outputs": [
        {
          "output_type": "stream",
          "name": "stdout",
          "text": [
            "0\n",
            "1\n",
            "2\n",
            "3\n",
            "4\n",
            "5\n",
            "6\n",
            "7\n",
            "8\n",
            "9\n"
          ]
        }
      ]
    },
    {
      "cell_type": "markdown",
      "source": [
        "5) 5,10,15,20,25,30 değerlerinden oluşan bir boyutlu bir array ve 1,2,3,4,5,6 değerlerinden oluşan başka bir boyutlu bir array oluşturun. Bu arraylerinin elemanlarına kendi aralarında 4 işlem uygulayın. İki arrayinde 1.indexindekiler toplansın/çıkartılsın/çarpılsın/bölünsün gibi."
      ],
      "metadata": {
        "id": "5eoQyI5cAWNO"
      }
    },
    {
      "cell_type": "code",
      "source": [
        "arr1 = np.array([5,10,15,20,25,30])\n",
        "arr2 = np.array([1,2,3,4,5,6])"
      ],
      "metadata": {
        "id": "brEZTIbnAXE_"
      },
      "execution_count": 139,
      "outputs": []
    },
    {
      "cell_type": "code",
      "source": [
        "arr1"
      ],
      "metadata": {
        "colab": {
          "base_uri": "https://localhost:8080/"
        },
        "id": "-qXspGwsAsSV",
        "outputId": "f07d36d1-0da8-426d-b9c2-c1e6845e7529"
      },
      "execution_count": 140,
      "outputs": [
        {
          "output_type": "execute_result",
          "data": {
            "text/plain": [
              "array([ 5, 10, 15, 20, 25, 30])"
            ]
          },
          "metadata": {},
          "execution_count": 140
        }
      ]
    },
    {
      "cell_type": "code",
      "source": [
        "arr2"
      ],
      "metadata": {
        "colab": {
          "base_uri": "https://localhost:8080/"
        },
        "id": "n39O4l--AujG",
        "outputId": "d080051c-3e65-4083-9f1c-7877557cfc60"
      },
      "execution_count": 141,
      "outputs": [
        {
          "output_type": "execute_result",
          "data": {
            "text/plain": [
              "array([1, 2, 3, 4, 5, 6])"
            ]
          },
          "metadata": {},
          "execution_count": 141
        }
      ]
    },
    {
      "cell_type": "code",
      "source": [
        "arr1+arr2"
      ],
      "metadata": {
        "colab": {
          "base_uri": "https://localhost:8080/"
        },
        "id": "P7Weoy_EAvyO",
        "outputId": "e4ffb0b1-4bd3-45a4-c8ac-13a9a703f04c"
      },
      "execution_count": 142,
      "outputs": [
        {
          "output_type": "execute_result",
          "data": {
            "text/plain": [
              "array([ 6, 12, 18, 24, 30, 36])"
            ]
          },
          "metadata": {},
          "execution_count": 142
        }
      ]
    },
    {
      "cell_type": "code",
      "source": [
        "arr1-arr2"
      ],
      "metadata": {
        "colab": {
          "base_uri": "https://localhost:8080/"
        },
        "id": "_o1eWVDxAyq0",
        "outputId": "098e0650-f589-4125-d430-f1550fa2d25f"
      },
      "execution_count": 143,
      "outputs": [
        {
          "output_type": "execute_result",
          "data": {
            "text/plain": [
              "array([ 4,  8, 12, 16, 20, 24])"
            ]
          },
          "metadata": {},
          "execution_count": 143
        }
      ]
    },
    {
      "cell_type": "code",
      "source": [
        "arr1*arr2"
      ],
      "metadata": {
        "colab": {
          "base_uri": "https://localhost:8080/"
        },
        "id": "imD5FwiyA3gl",
        "outputId": "80e6af49-db04-4e3a-c95d-9a77183db121"
      },
      "execution_count": 144,
      "outputs": [
        {
          "output_type": "execute_result",
          "data": {
            "text/plain": [
              "array([  5,  20,  45,  80, 125, 180])"
            ]
          },
          "metadata": {},
          "execution_count": 144
        }
      ]
    },
    {
      "cell_type": "code",
      "source": [
        "arr1/arr2"
      ],
      "metadata": {
        "colab": {
          "base_uri": "https://localhost:8080/"
        },
        "id": "j8TO5p_xA8Zi",
        "outputId": "976b1d0e-f13a-4523-fdac-669e6d7fc598"
      },
      "execution_count": 145,
      "outputs": [
        {
          "output_type": "execute_result",
          "data": {
            "text/plain": [
              "array([5., 5., 5., 5., 5., 5.])"
            ]
          },
          "metadata": {},
          "execution_count": 145
        }
      ]
    },
    {
      "cell_type": "markdown",
      "source": [
        "6) 0-100 arası rastgele 10 tam sayıdan oluşan bir array oluşturun ve oluşturulan arrayin sum/mean/max/var/std değerlerini inceleyin."
      ],
      "metadata": {
        "id": "cIU05GulBKwN"
      }
    },
    {
      "cell_type": "code",
      "source": [
        "arr = np.random.randint(0,100, 10)\n",
        "arr\n",
        "     "
      ],
      "metadata": {
        "colab": {
          "base_uri": "https://localhost:8080/"
        },
        "id": "pSDs0IwJBLe4",
        "outputId": "34cf85d2-7f0c-4b7d-d109-02e09b1e136d"
      },
      "execution_count": 146,
      "outputs": [
        {
          "output_type": "execute_result",
          "data": {
            "text/plain": [
              "array([69, 80, 70, 34, 24, 39,  1, 90, 59, 50])"
            ]
          },
          "metadata": {},
          "execution_count": 146
        }
      ]
    },
    {
      "cell_type": "code",
      "source": [
        "arr.sum()"
      ],
      "metadata": {
        "colab": {
          "base_uri": "https://localhost:8080/"
        },
        "id": "cjqYmDjPBesd",
        "outputId": "3cbcfb70-ca14-44d7-dbab-17aad5d416a8"
      },
      "execution_count": 147,
      "outputs": [
        {
          "output_type": "execute_result",
          "data": {
            "text/plain": [
              "516"
            ]
          },
          "metadata": {},
          "execution_count": 147
        }
      ]
    },
    {
      "cell_type": "code",
      "source": [
        "arr.mean()"
      ],
      "metadata": {
        "colab": {
          "base_uri": "https://localhost:8080/"
        },
        "id": "t5bTChheB3ib",
        "outputId": "5a9cb023-241c-4bd9-ba03-1cf4f0fb216b"
      },
      "execution_count": 148,
      "outputs": [
        {
          "output_type": "execute_result",
          "data": {
            "text/plain": [
              "51.6"
            ]
          },
          "metadata": {},
          "execution_count": 148
        }
      ]
    },
    {
      "cell_type": "code",
      "source": [
        "arr.var()"
      ],
      "metadata": {
        "colab": {
          "base_uri": "https://localhost:8080/"
        },
        "id": "4wT-0yDaB6Gu",
        "outputId": "eaa405ee-c78f-4837-a34c-5a202f418470"
      },
      "execution_count": 149,
      "outputs": [
        {
          "output_type": "execute_result",
          "data": {
            "text/plain": [
              "677.0400000000001"
            ]
          },
          "metadata": {},
          "execution_count": 149
        }
      ]
    },
    {
      "cell_type": "code",
      "source": [
        "arr.std()"
      ],
      "metadata": {
        "colab": {
          "base_uri": "https://localhost:8080/"
        },
        "id": "d5esjEpaB6zF",
        "outputId": "054e6a54-e52e-451a-b67c-46f2afc49ee2"
      },
      "execution_count": 150,
      "outputs": [
        {
          "output_type": "execute_result",
          "data": {
            "text/plain": [
              "26.019992313603787"
            ]
          },
          "metadata": {},
          "execution_count": 150
        }
      ]
    },
    {
      "cell_type": "markdown",
      "source": [
        " 7) 0-20 arası(20 dahil değil) tam sayılardan oluşan ve 500-530(530 dahil) arası tam sayılardan oluşan 2 array oluşturun. Ardından bu iki array'i concatenate ederek ekrana yazdırın."
      ],
      "metadata": {
        "id": "ZfR2gqKsB-vU"
      }
    },
    {
      "cell_type": "code",
      "source": [
        "arr1=np.arange(20)\n",
        "arr1"
      ],
      "metadata": {
        "colab": {
          "base_uri": "https://localhost:8080/"
        },
        "id": "KbdeiB2hCFcL",
        "outputId": "9b44fec6-a70b-4764-fd38-9830a403ab97"
      },
      "execution_count": 151,
      "outputs": [
        {
          "output_type": "execute_result",
          "data": {
            "text/plain": [
              "array([ 0,  1,  2,  3,  4,  5,  6,  7,  8,  9, 10, 11, 12, 13, 14, 15, 16,\n",
              "       17, 18, 19])"
            ]
          },
          "metadata": {},
          "execution_count": 151
        }
      ]
    },
    {
      "cell_type": "code",
      "source": [
        "arr2=np.arange(500,531)\n",
        "arr2"
      ],
      "metadata": {
        "colab": {
          "base_uri": "https://localhost:8080/"
        },
        "id": "5FHuCNIJChWn",
        "outputId": "bb2054e6-0cd0-4028-89dc-aa96f15ae5bc"
      },
      "execution_count": 152,
      "outputs": [
        {
          "output_type": "execute_result",
          "data": {
            "text/plain": [
              "array([500, 501, 502, 503, 504, 505, 506, 507, 508, 509, 510, 511, 512,\n",
              "       513, 514, 515, 516, 517, 518, 519, 520, 521, 522, 523, 524, 525,\n",
              "       526, 527, 528, 529, 530])"
            ]
          },
          "metadata": {},
          "execution_count": 152
        }
      ]
    },
    {
      "cell_type": "code",
      "source": [
        "np.concatenate([arr1,arr2] , axis = 0 )"
      ],
      "metadata": {
        "colab": {
          "base_uri": "https://localhost:8080/"
        },
        "id": "6YVDbx0XCxmB",
        "outputId": "5e159c69-8fbe-4b1a-e27e-3b8943999e8a"
      },
      "execution_count": 153,
      "outputs": [
        {
          "output_type": "execute_result",
          "data": {
            "text/plain": [
              "array([  0,   1,   2,   3,   4,   5,   6,   7,   8,   9,  10,  11,  12,\n",
              "        13,  14,  15,  16,  17,  18,  19, 500, 501, 502, 503, 504, 505,\n",
              "       506, 507, 508, 509, 510, 511, 512, 513, 514, 515, 516, 517, 518,\n",
              "       519, 520, 521, 522, 523, 524, 525, 526, 527, 528, 529, 530])"
            ]
          },
          "metadata": {},
          "execution_count": 153
        }
      ]
    },
    {
      "cell_type": "markdown",
      "source": [
        "8) 15-50(50 dahil) arası tam sayılardan oluşan bir array oluşturun. Daha sonra 10-100 arası(100 dahil) tam sayılardan oluşan 2.bir array oluşturun. Bu 2 arrayi concatanate ederek 3.bir array oluşturun ve bu array'in 25.index ile 50.index'i(50 dahil) arasındaki değerlerini 888 yapın. "
      ],
      "metadata": {
        "id": "NhMBXoB4C4Hg"
      }
    },
    {
      "cell_type": "code",
      "source": [
        "arr1=np.arange(15,51)\n",
        "arr1"
      ],
      "metadata": {
        "colab": {
          "base_uri": "https://localhost:8080/"
        },
        "id": "mmXq_HNUC9hA",
        "outputId": "97d08e30-94a2-4b1e-9b63-4a97d37b8686"
      },
      "execution_count": 154,
      "outputs": [
        {
          "output_type": "execute_result",
          "data": {
            "text/plain": [
              "array([15, 16, 17, 18, 19, 20, 21, 22, 23, 24, 25, 26, 27, 28, 29, 30, 31,\n",
              "       32, 33, 34, 35, 36, 37, 38, 39, 40, 41, 42, 43, 44, 45, 46, 47, 48,\n",
              "       49, 50])"
            ]
          },
          "metadata": {},
          "execution_count": 154
        }
      ]
    },
    {
      "cell_type": "code",
      "source": [
        "arr2=np.arange(10,101)\n",
        "arr2"
      ],
      "metadata": {
        "colab": {
          "base_uri": "https://localhost:8080/"
        },
        "id": "98FkmQOMDF_W",
        "outputId": "9e5e6e8f-3637-474e-c285-4756833efc60"
      },
      "execution_count": 155,
      "outputs": [
        {
          "output_type": "execute_result",
          "data": {
            "text/plain": [
              "array([ 10,  11,  12,  13,  14,  15,  16,  17,  18,  19,  20,  21,  22,\n",
              "        23,  24,  25,  26,  27,  28,  29,  30,  31,  32,  33,  34,  35,\n",
              "        36,  37,  38,  39,  40,  41,  42,  43,  44,  45,  46,  47,  48,\n",
              "        49,  50,  51,  52,  53,  54,  55,  56,  57,  58,  59,  60,  61,\n",
              "        62,  63,  64,  65,  66,  67,  68,  69,  70,  71,  72,  73,  74,\n",
              "        75,  76,  77,  78,  79,  80,  81,  82,  83,  84,  85,  86,  87,\n",
              "        88,  89,  90,  91,  92,  93,  94,  95,  96,  97,  98,  99, 100])"
            ]
          },
          "metadata": {},
          "execution_count": 155
        }
      ]
    },
    {
      "cell_type": "code",
      "source": [
        "arr3=np.concatenate([arr1,arr2] , axis = 0 )\n",
        "arr3"
      ],
      "metadata": {
        "colab": {
          "base_uri": "https://localhost:8080/"
        },
        "id": "f0x9t2rQDSRf",
        "outputId": "724951f8-2720-485a-9d4c-e9046fd33958"
      },
      "execution_count": 156,
      "outputs": [
        {
          "output_type": "execute_result",
          "data": {
            "text/plain": [
              "array([ 15,  16,  17,  18,  19,  20,  21,  22,  23,  24,  25,  26,  27,\n",
              "        28,  29,  30,  31,  32,  33,  34,  35,  36,  37,  38,  39,  40,\n",
              "        41,  42,  43,  44,  45,  46,  47,  48,  49,  50,  10,  11,  12,\n",
              "        13,  14,  15,  16,  17,  18,  19,  20,  21,  22,  23,  24,  25,\n",
              "        26,  27,  28,  29,  30,  31,  32,  33,  34,  35,  36,  37,  38,\n",
              "        39,  40,  41,  42,  43,  44,  45,  46,  47,  48,  49,  50,  51,\n",
              "        52,  53,  54,  55,  56,  57,  58,  59,  60,  61,  62,  63,  64,\n",
              "        65,  66,  67,  68,  69,  70,  71,  72,  73,  74,  75,  76,  77,\n",
              "        78,  79,  80,  81,  82,  83,  84,  85,  86,  87,  88,  89,  90,\n",
              "        91,  92,  93,  94,  95,  96,  97,  98,  99, 100])"
            ]
          },
          "metadata": {},
          "execution_count": 156
        }
      ]
    },
    {
      "cell_type": "code",
      "source": [
        "arr3[25:51] = 888\n",
        "arr3"
      ],
      "metadata": {
        "colab": {
          "base_uri": "https://localhost:8080/"
        },
        "id": "FAtBJs3XEMcv",
        "outputId": "66f60310-0532-4250-b14f-cc7178db3b01"
      },
      "execution_count": 157,
      "outputs": [
        {
          "output_type": "execute_result",
          "data": {
            "text/plain": [
              "array([ 15,  16,  17,  18,  19,  20,  21,  22,  23,  24,  25,  26,  27,\n",
              "        28,  29,  30,  31,  32,  33,  34,  35,  36,  37,  38,  39, 888,\n",
              "       888, 888, 888, 888, 888, 888, 888, 888, 888, 888, 888, 888, 888,\n",
              "       888, 888, 888, 888, 888, 888, 888, 888, 888, 888, 888, 888,  25,\n",
              "        26,  27,  28,  29,  30,  31,  32,  33,  34,  35,  36,  37,  38,\n",
              "        39,  40,  41,  42,  43,  44,  45,  46,  47,  48,  49,  50,  51,\n",
              "        52,  53,  54,  55,  56,  57,  58,  59,  60,  61,  62,  63,  64,\n",
              "        65,  66,  67,  68,  69,  70,  71,  72,  73,  74,  75,  76,  77,\n",
              "        78,  79,  80,  81,  82,  83,  84,  85,  86,  87,  88,  89,  90,\n",
              "        91,  92,  93,  94,  95,  96,  97,  98,  99, 100])"
            ]
          },
          "metadata": {},
          "execution_count": 157
        }
      ]
    },
    {
      "cell_type": "markdown",
      "source": [
        "9) 0-40(40 dahil değil) arası değerlerden oluşan (8,5) shape'inde 2 boyutlu bir array ve 320-360(360 dahil değil) değerlerinden oluşan (8,5) shape'inde 2 boyutlubaşka bir array oluşturun. Devamında bu iki array'i hem axis = 0'da hem de axis = 1'de concatenate ederek farkı karşılaştırın."
      ],
      "metadata": {
        "id": "8bjTwIM_E6Br"
      }
    },
    {
      "cell_type": "code",
      "source": [
        "arr1=np.arange(40)\n",
        "arr1"
      ],
      "metadata": {
        "colab": {
          "base_uri": "https://localhost:8080/"
        },
        "id": "uGpIyNsWFALS",
        "outputId": "7a1d9bc8-e261-467c-a37e-78f86aef1dfa"
      },
      "execution_count": 158,
      "outputs": [
        {
          "output_type": "execute_result",
          "data": {
            "text/plain": [
              "array([ 0,  1,  2,  3,  4,  5,  6,  7,  8,  9, 10, 11, 12, 13, 14, 15, 16,\n",
              "       17, 18, 19, 20, 21, 22, 23, 24, 25, 26, 27, 28, 29, 30, 31, 32, 33,\n",
              "       34, 35, 36, 37, 38, 39])"
            ]
          },
          "metadata": {},
          "execution_count": 158
        }
      ]
    },
    {
      "cell_type": "code",
      "source": [
        "arr2d=arr1.reshape(8,5)\n",
        "arr2d"
      ],
      "metadata": {
        "colab": {
          "base_uri": "https://localhost:8080/"
        },
        "id": "K060WHMNFeXj",
        "outputId": "c1c613e3-19c8-46f0-88bc-debb15a71a88"
      },
      "execution_count": 159,
      "outputs": [
        {
          "output_type": "execute_result",
          "data": {
            "text/plain": [
              "array([[ 0,  1,  2,  3,  4],\n",
              "       [ 5,  6,  7,  8,  9],\n",
              "       [10, 11, 12, 13, 14],\n",
              "       [15, 16, 17, 18, 19],\n",
              "       [20, 21, 22, 23, 24],\n",
              "       [25, 26, 27, 28, 29],\n",
              "       [30, 31, 32, 33, 34],\n",
              "       [35, 36, 37, 38, 39]])"
            ]
          },
          "metadata": {},
          "execution_count": 159
        }
      ]
    },
    {
      "cell_type": "code",
      "source": [
        "arr2=np.arange(320,360)\n",
        "arr2"
      ],
      "metadata": {
        "colab": {
          "base_uri": "https://localhost:8080/"
        },
        "id": "OqxCQ9V9FqqO",
        "outputId": "73bdbd11-ed2c-4204-cb8c-904032c6111b"
      },
      "execution_count": 160,
      "outputs": [
        {
          "output_type": "execute_result",
          "data": {
            "text/plain": [
              "array([320, 321, 322, 323, 324, 325, 326, 327, 328, 329, 330, 331, 332,\n",
              "       333, 334, 335, 336, 337, 338, 339, 340, 341, 342, 343, 344, 345,\n",
              "       346, 347, 348, 349, 350, 351, 352, 353, 354, 355, 356, 357, 358,\n",
              "       359])"
            ]
          },
          "metadata": {},
          "execution_count": 160
        }
      ]
    },
    {
      "cell_type": "code",
      "source": [
        "arr2dd=arr2.reshape(8,5)\n",
        "arr2dd"
      ],
      "metadata": {
        "colab": {
          "base_uri": "https://localhost:8080/"
        },
        "id": "3B8lMkk6F5wb",
        "outputId": "17842afd-6e17-4410-fffb-adb503f5b841"
      },
      "execution_count": 161,
      "outputs": [
        {
          "output_type": "execute_result",
          "data": {
            "text/plain": [
              "array([[320, 321, 322, 323, 324],\n",
              "       [325, 326, 327, 328, 329],\n",
              "       [330, 331, 332, 333, 334],\n",
              "       [335, 336, 337, 338, 339],\n",
              "       [340, 341, 342, 343, 344],\n",
              "       [345, 346, 347, 348, 349],\n",
              "       [350, 351, 352, 353, 354],\n",
              "       [355, 356, 357, 358, 359]])"
            ]
          },
          "metadata": {},
          "execution_count": 161
        }
      ]
    },
    {
      "cell_type": "code",
      "source": [
        "arr3=np.concatenate([arr2d,arr2dd] , axis = 0 )\n",
        "arr3"
      ],
      "metadata": {
        "colab": {
          "base_uri": "https://localhost:8080/"
        },
        "id": "UWtq-bnUGLt9",
        "outputId": "29fd1ed5-aec3-438c-d3e2-2cff857a24de"
      },
      "execution_count": 162,
      "outputs": [
        {
          "output_type": "execute_result",
          "data": {
            "text/plain": [
              "array([[  0,   1,   2,   3,   4],\n",
              "       [  5,   6,   7,   8,   9],\n",
              "       [ 10,  11,  12,  13,  14],\n",
              "       [ 15,  16,  17,  18,  19],\n",
              "       [ 20,  21,  22,  23,  24],\n",
              "       [ 25,  26,  27,  28,  29],\n",
              "       [ 30,  31,  32,  33,  34],\n",
              "       [ 35,  36,  37,  38,  39],\n",
              "       [320, 321, 322, 323, 324],\n",
              "       [325, 326, 327, 328, 329],\n",
              "       [330, 331, 332, 333, 334],\n",
              "       [335, 336, 337, 338, 339],\n",
              "       [340, 341, 342, 343, 344],\n",
              "       [345, 346, 347, 348, 349],\n",
              "       [350, 351, 352, 353, 354],\n",
              "       [355, 356, 357, 358, 359]])"
            ]
          },
          "metadata": {},
          "execution_count": 162
        }
      ]
    },
    {
      "cell_type": "code",
      "source": [
        "arr3=np.concatenate([arr2d,arr2dd] , axis = 1 )\n",
        "arr3"
      ],
      "metadata": {
        "colab": {
          "base_uri": "https://localhost:8080/"
        },
        "id": "y8vOmuT8GUu4",
        "outputId": "5b47a81e-8bae-454f-fe79-0a59109e9052"
      },
      "execution_count": 163,
      "outputs": [
        {
          "output_type": "execute_result",
          "data": {
            "text/plain": [
              "array([[  0,   1,   2,   3,   4, 320, 321, 322, 323, 324],\n",
              "       [  5,   6,   7,   8,   9, 325, 326, 327, 328, 329],\n",
              "       [ 10,  11,  12,  13,  14, 330, 331, 332, 333, 334],\n",
              "       [ 15,  16,  17,  18,  19, 335, 336, 337, 338, 339],\n",
              "       [ 20,  21,  22,  23,  24, 340, 341, 342, 343, 344],\n",
              "       [ 25,  26,  27,  28,  29, 345, 346, 347, 348, 349],\n",
              "       [ 30,  31,  32,  33,  34, 350, 351, 352, 353, 354],\n",
              "       [ 35,  36,  37,  38,  39, 355, 356, 357, 358, 359]])"
            ]
          },
          "metadata": {},
          "execution_count": 163
        }
      ]
    },
    {
      "cell_type": "markdown",
      "source": [
        "10) 9.Soruda oluşturduğunuz 2 array'i axis = 2'de concatenate etmeye çalışın. Ardından axis = 2'de stacklemeye(yığınlamaya) çalışın. İkisi arasındaki farkı karşılaştırın. "
      ],
      "metadata": {
        "id": "O-8NDT59GYnu"
      }
    },
    {
      "cell_type": "code",
      "source": [],
      "metadata": {
        "id": "AvslH3aIRHge"
      },
      "execution_count": null,
      "outputs": []
    },
    {
      "cell_type": "markdown",
      "source": [
        "11) [1, 20, 25, 4, 4, 5, 4, 4, 1, 6, 9, 12, 1, 5] değerlerinden oluşan bir boyutlu bir array oluşturun. Devamında bu array'in içinde değeri 5'e eşit olan değerlerin indexleri bulun."
      ],
      "metadata": {
        "id": "qv-spAAKIGeo"
      }
    },
    {
      "cell_type": "code",
      "source": [
        "arr=np.array( [1, 20, 25, 4, 4, 5, 4, 4, 1, 6, 9, 12, 1, 5])\n",
        "arr"
      ],
      "metadata": {
        "colab": {
          "base_uri": "https://localhost:8080/"
        },
        "id": "cJjVYQ4ZINhK",
        "outputId": "57244d5e-4eaf-4596-eaca-29d856b09cb0"
      },
      "execution_count": 93,
      "outputs": [
        {
          "output_type": "execute_result",
          "data": {
            "text/plain": [
              "array([ 1, 20, 25,  4,  4,  5,  4,  4,  1,  6,  9, 12,  1,  5])"
            ]
          },
          "metadata": {},
          "execution_count": 93
        }
      ]
    },
    {
      "cell_type": "code",
      "source": [
        "np.where(arr == 5)"
      ],
      "metadata": {
        "colab": {
          "base_uri": "https://localhost:8080/"
        },
        "id": "_x8j5lczIfyZ",
        "outputId": "c4cd3bc2-67e7-4272-a4b4-063454879d28"
      },
      "execution_count": 94,
      "outputs": [
        {
          "output_type": "execute_result",
          "data": {
            "text/plain": [
              "(array([ 5, 13]),)"
            ]
          },
          "metadata": {},
          "execution_count": 94
        }
      ]
    },
    {
      "cell_type": "markdown",
      "source": [
        " 12) Yukarıda oluşturduğunuz array içinde değeri çift olan değerlerin indexlerini bulun."
      ],
      "metadata": {
        "id": "VPVm9spLIltO"
      }
    },
    {
      "cell_type": "code",
      "source": [
        "arr=np.array( [1, 20, 25, 4, 4, 5, 4, 4, 1, 6, 9, 12, 1, 5])\n",
        "arr"
      ],
      "metadata": {
        "colab": {
          "base_uri": "https://localhost:8080/"
        },
        "id": "Eqi19SaWJEUH",
        "outputId": "65c67a8e-a126-4cc0-a4fb-2a3d6b6af8e5"
      },
      "execution_count": 96,
      "outputs": [
        {
          "output_type": "execute_result",
          "data": {
            "text/plain": [
              "array([ 1, 20, 25,  4,  4,  5,  4,  4,  1,  6,  9, 12,  1,  5])"
            ]
          },
          "metadata": {},
          "execution_count": 96
        }
      ]
    },
    {
      "cell_type": "code",
      "source": [
        "np.where(arr % 2 == 0 )"
      ],
      "metadata": {
        "colab": {
          "base_uri": "https://localhost:8080/"
        },
        "id": "x0z8sVBWIrax",
        "outputId": "162d9395-c2a6-4378-c057-00030da0643e"
      },
      "execution_count": 100,
      "outputs": [
        {
          "output_type": "execute_result",
          "data": {
            "text/plain": [
              "(array([ 1,  3,  4,  6,  7,  9, 11]),)"
            ]
          },
          "metadata": {},
          "execution_count": 100
        }
      ]
    },
    {
      "cell_type": "markdown",
      "source": [
        "13) Yukarıda oluşturduğunuz array içinde değeri 4'den büyük olan değerlerin indexlerini bulun. "
      ],
      "metadata": {
        "id": "YkqJTFQHJgE6"
      }
    },
    {
      "cell_type": "code",
      "source": [
        "arr=np.array( [1, 20, 25, 4, 4, 5, 4, 4, 1, 6, 9, 12, 1, 5])\n",
        "arr"
      ],
      "metadata": {
        "colab": {
          "base_uri": "https://localhost:8080/"
        },
        "id": "N_IzqiLJJmH6",
        "outputId": "e9ec2585-af62-4f22-89b7-80bf44853e37"
      },
      "execution_count": 101,
      "outputs": [
        {
          "output_type": "execute_result",
          "data": {
            "text/plain": [
              "array([ 1, 20, 25,  4,  4,  5,  4,  4,  1,  6,  9, 12,  1,  5])"
            ]
          },
          "metadata": {},
          "execution_count": 101
        }
      ]
    },
    {
      "cell_type": "code",
      "source": [
        "np.where(arr > 4 )"
      ],
      "metadata": {
        "colab": {
          "base_uri": "https://localhost:8080/"
        },
        "id": "eqMisdx5JpSY",
        "outputId": "3f5044dc-3f21-40f0-f061-1842125428fb"
      },
      "execution_count": 102,
      "outputs": [
        {
          "output_type": "execute_result",
          "data": {
            "text/plain": [
              "(array([ 1,  2,  5,  9, 10, 11, 13]),)"
            ]
          },
          "metadata": {},
          "execution_count": 102
        }
      ]
    },
    {
      "cell_type": "markdown",
      "source": [
        "14) Yukarıda oluşturduğunuz array içinde değeri 5'e tam bölünen değerlerin indexlerini bulun"
      ],
      "metadata": {
        "id": "xonLlSfEJzDp"
      }
    },
    {
      "cell_type": "code",
      "source": [
        "np.where(arr % 5 == 0 )"
      ],
      "metadata": {
        "colab": {
          "base_uri": "https://localhost:8080/"
        },
        "id": "jdIyO7ZXJ6FF",
        "outputId": "01f96277-ab3a-45b7-f5d1-308143742081"
      },
      "execution_count": 103,
      "outputs": [
        {
          "output_type": "execute_result",
          "data": {
            "text/plain": [
              "(array([ 1,  2,  5, 13]),)"
            ]
          },
          "metadata": {},
          "execution_count": 103
        }
      ]
    },
    {
      "cell_type": "markdown",
      "source": [
        "15) 85-100(100 dahil) arasından rastgele 1 tam sayı seçin "
      ],
      "metadata": {
        "id": "IpfWCgIkKFNN"
      }
    },
    {
      "cell_type": "code",
      "source": [
        "np.random.randint(85 , 101 )"
      ],
      "metadata": {
        "colab": {
          "base_uri": "https://localhost:8080/"
        },
        "id": "6kGfG4_IKLcK",
        "outputId": "2abb9eca-2457-483f-c2af-9f6c66f02366"
      },
      "execution_count": 104,
      "outputs": [
        {
          "output_type": "execute_result",
          "data": {
            "text/plain": [
              "98"
            ]
          },
          "metadata": {},
          "execution_count": 104
        }
      ]
    },
    {
      "cell_type": "markdown",
      "source": [
        "16) İki basamaklı tam sayılar arasından rastgele sayılar seçerek (3,3) shape'inde bir array oluşturun."
      ],
      "metadata": {
        "id": "NayzPwX2KcTM"
      }
    },
    {
      "cell_type": "code",
      "source": [
        "arr = np.random.randint(10,100,9)\n",
        "arr"
      ],
      "metadata": {
        "colab": {
          "base_uri": "https://localhost:8080/"
        },
        "id": "VLvrAdVwKik_",
        "outputId": "89880e34-ccd8-487b-9116-a64e5c54c4fb"
      },
      "execution_count": 110,
      "outputs": [
        {
          "output_type": "execute_result",
          "data": {
            "text/plain": [
              "array([77, 69, 66, 62, 26, 90, 95, 52, 30])"
            ]
          },
          "metadata": {},
          "execution_count": 110
        }
      ]
    },
    {
      "cell_type": "code",
      "source": [
        "arr1=arr.reshape(3,3)\n",
        "arr1"
      ],
      "metadata": {
        "colab": {
          "base_uri": "https://localhost:8080/"
        },
        "id": "alYdwYy5LEMj",
        "outputId": "9c6707e0-1113-4228-93c1-a38a79aaa0ce"
      },
      "execution_count": 113,
      "outputs": [
        {
          "output_type": "execute_result",
          "data": {
            "text/plain": [
              "array([[77, 69, 66],\n",
              "       [62, 26, 90],\n",
              "       [95, 52, 30]])"
            ]
          },
          "metadata": {},
          "execution_count": 113
        }
      ]
    },
    {
      "cell_type": "code",
      "source": [
        "arr1.shape"
      ],
      "metadata": {
        "colab": {
          "base_uri": "https://localhost:8080/"
        },
        "id": "liFC0XRzLjFS",
        "outputId": "ccf104a3-ed61-4eea-e1ce-ddafb41113fc"
      },
      "execution_count": 114,
      "outputs": [
        {
          "output_type": "execute_result",
          "data": {
            "text/plain": [
              "(3, 3)"
            ]
          },
          "metadata": {},
          "execution_count": 114
        }
      ]
    },
    {
      "cell_type": "markdown",
      "source": [
        "17) 35-60 arasındaki tam sayılardan bir array oluşturun, ardından bu array içinden rastgele 1 tam sayı seçin."
      ],
      "metadata": {
        "id": "kPOV3HNJLrlI"
      }
    },
    {
      "cell_type": "code",
      "source": [
        "arr = np.random.randint(35,60)\n",
        "arr"
      ],
      "metadata": {
        "colab": {
          "base_uri": "https://localhost:8080/"
        },
        "id": "HJxDjva0Lxeg",
        "outputId": "613c368f-8fdc-46ec-8806-1c43c0da103f"
      },
      "execution_count": 115,
      "outputs": [
        {
          "output_type": "execute_result",
          "data": {
            "text/plain": [
              "37"
            ]
          },
          "metadata": {},
          "execution_count": 115
        }
      ]
    },
    {
      "cell_type": "markdown",
      "source": [
        "18) Sadece [3, 8, 10, 53] değerlerinden oluşan (2,5) shape'inde 2 boyutlu bir array oluşturun."
      ],
      "metadata": {
        "id": "giecxwW9L8MS"
      }
    },
    {
      "cell_type": "code",
      "source": [
        "np.random.choice([3,8,10,53],(2,5))"
      ],
      "metadata": {
        "colab": {
          "base_uri": "https://localhost:8080/"
        },
        "id": "G5XW2tm-MBQq",
        "outputId": "0ed90015-628a-44be-98b7-9f339d47da18"
      },
      "execution_count": 119,
      "outputs": [
        {
          "output_type": "execute_result",
          "data": {
            "text/plain": [
              "array([[10,  3,  8,  3,  8],\n",
              "       [53,  3, 53,  8,  3]])"
            ]
          },
          "metadata": {},
          "execution_count": 119
        }
      ]
    }
  ]
}